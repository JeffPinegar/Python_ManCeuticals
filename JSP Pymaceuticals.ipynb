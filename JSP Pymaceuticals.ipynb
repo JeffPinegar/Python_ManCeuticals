{
 "cells": [
  {
   "cell_type": "markdown",
   "metadata": {},
   "source": [
    "# Pymaceuticals Inc.\n",
    "---\n",
    "\n",
    "### Analysis\n",
    " "
   ]
  },
  {
   "cell_type": "code",
   "execution_count": 1,
   "metadata": {},
   "outputs": [],
   "source": [
    "%matplotlib inline\n",
    "# Dependencies and Setup\n",
    "import pandas as pd\n",
    "import scipy.stats as st\n",
    "import numpy as np \n",
    "import os\n",
    "from scipy.stats import sem\n",
    "from scipy.stats import linregress\n",
    "\n",
    "# For plotting we add addtional dependencies\n",
    "import matplotlib as plt\n",
    "import matplotlib.pyplot as plt\n",
    "import matplotlib.colors as mcolors\n",
    "#import seaborn as sns"
   ]
  },
  {
   "cell_type": "code",
   "execution_count": 2,
   "metadata": {},
   "outputs": [
    {
     "name": "stdout",
     "output_type": "stream",
     "text": [
      "  Mouse ID Drug Regimen     Sex  Age_months  Weight (g)\n",
      "0     k403     Ramicane    Male          21          16\n",
      "1     s185    Capomulin  Female           3          17\n",
      "2     x401    Capomulin  Female          16          15\n",
      "3     m601    Capomulin    Male          22          17\n",
      "4     g791     Ramicane    Male          11          16\n",
      "  Mouse ID  Timepoint  Tumor Volume (mm3)  Metastatic Sites\n",
      "0     b128          0                45.0                 0\n",
      "1     f932          0                45.0                 0\n",
      "2     g107          0                45.0                 0\n",
      "3     a457          0                45.0                 0\n",
      "4     c819          0                45.0                 0\n"
     ]
    }
   ],
   "source": [
    "# Study data files\n",
    "mouse_metadata_path = \"data/Mouse_metadata.csv\"\n",
    "study_results_path = \"data/Study_results.csv\"\n",
    "\n",
    "# Read the mouse data and the study results\n",
    "mouse_metadata = pd.read_csv(mouse_metadata_path)\n",
    "study_results = pd.read_csv(study_results_path)\n",
    "\n",
    "print (mouse_metadata.head())\n",
    "print (study_results.head())"
   ]
  },
  {
   "cell_type": "code",
   "execution_count": 3,
   "metadata": {},
   "outputs": [
    {
     "data": {
      "text/html": [
       "<div>\n",
       "<style scoped>\n",
       "    .dataframe tbody tr th:only-of-type {\n",
       "        vertical-align: middle;\n",
       "    }\n",
       "\n",
       "    .dataframe tbody tr th {\n",
       "        vertical-align: top;\n",
       "    }\n",
       "\n",
       "    .dataframe thead th {\n",
       "        text-align: right;\n",
       "    }\n",
       "</style>\n",
       "<table border=\"1\" class=\"dataframe\">\n",
       "  <thead>\n",
       "    <tr style=\"text-align: right;\">\n",
       "      <th></th>\n",
       "      <th>Mouse ID</th>\n",
       "      <th>Timepoint</th>\n",
       "      <th>Tumor Volume (mm3)</th>\n",
       "      <th>Metastatic Sites</th>\n",
       "      <th>Drug Regimen</th>\n",
       "      <th>Sex</th>\n",
       "      <th>Age_months</th>\n",
       "      <th>Weight (g)</th>\n",
       "    </tr>\n",
       "  </thead>\n",
       "  <tbody>\n",
       "    <tr>\n",
       "      <th>0</th>\n",
       "      <td>b128</td>\n",
       "      <td>0</td>\n",
       "      <td>45.000000</td>\n",
       "      <td>0</td>\n",
       "      <td>Capomulin</td>\n",
       "      <td>Female</td>\n",
       "      <td>9</td>\n",
       "      <td>22</td>\n",
       "    </tr>\n",
       "    <tr>\n",
       "      <th>1</th>\n",
       "      <td>b128</td>\n",
       "      <td>5</td>\n",
       "      <td>45.651331</td>\n",
       "      <td>0</td>\n",
       "      <td>Capomulin</td>\n",
       "      <td>Female</td>\n",
       "      <td>9</td>\n",
       "      <td>22</td>\n",
       "    </tr>\n",
       "    <tr>\n",
       "      <th>2</th>\n",
       "      <td>b128</td>\n",
       "      <td>10</td>\n",
       "      <td>43.270852</td>\n",
       "      <td>0</td>\n",
       "      <td>Capomulin</td>\n",
       "      <td>Female</td>\n",
       "      <td>9</td>\n",
       "      <td>22</td>\n",
       "    </tr>\n",
       "    <tr>\n",
       "      <th>3</th>\n",
       "      <td>b128</td>\n",
       "      <td>15</td>\n",
       "      <td>43.784893</td>\n",
       "      <td>0</td>\n",
       "      <td>Capomulin</td>\n",
       "      <td>Female</td>\n",
       "      <td>9</td>\n",
       "      <td>22</td>\n",
       "    </tr>\n",
       "    <tr>\n",
       "      <th>4</th>\n",
       "      <td>b128</td>\n",
       "      <td>20</td>\n",
       "      <td>42.731552</td>\n",
       "      <td>0</td>\n",
       "      <td>Capomulin</td>\n",
       "      <td>Female</td>\n",
       "      <td>9</td>\n",
       "      <td>22</td>\n",
       "    </tr>\n",
       "  </tbody>\n",
       "</table>\n",
       "</div>"
      ],
      "text/plain": [
       "  Mouse ID  Timepoint  Tumor Volume (mm3)  Metastatic Sites Drug Regimen  \\\n",
       "0     b128          0           45.000000                 0    Capomulin   \n",
       "1     b128          5           45.651331                 0    Capomulin   \n",
       "2     b128         10           43.270852                 0    Capomulin   \n",
       "3     b128         15           43.784893                 0    Capomulin   \n",
       "4     b128         20           42.731552                 0    Capomulin   \n",
       "\n",
       "      Sex  Age_months  Weight (g)  \n",
       "0  Female           9          22  \n",
       "1  Female           9          22  \n",
       "2  Female           9          22  \n",
       "3  Female           9          22  \n",
       "4  Female           9          22  "
      ]
     },
     "execution_count": 3,
     "metadata": {},
     "output_type": "execute_result"
    }
   ],
   "source": [
    "# Combine the mouse information and the treatment data into a single dataset\n",
    "\n",
    "# Merge inner - eliminate Mouse ID that are not in both data files\n",
    "mouse_df = pd.merge(study_results, mouse_metadata, on=\"Mouse ID\", how=\"inner\")\n",
    "\n",
    "# Writes out Mouse_df.cvs into the subdirectory \"Output\"\n",
    "file_one = os.path.join('.','Output', 'Mouse_df.csv')\n",
    "mouse_df.to_csv(file_one, index=False, header=True)                     \n",
    "\n",
    "# Display the data table for preview\n",
    "mouse_df.head()"
   ]
  },
  {
   "cell_type": "code",
   "execution_count": 4,
   "metadata": {},
   "outputs": [
    {
     "data": {
      "text/plain": [
       "249"
      ]
     },
     "execution_count": 4,
     "metadata": {},
     "output_type": "execute_result"
    }
   ],
   "source": [
    "# Determine the number of mice.\n",
    "mouse_df['Mouse ID'].nunique()"
   ]
  },
  {
   "cell_type": "code",
   "execution_count": 5,
   "metadata": {},
   "outputs": [
    {
     "data": {
      "text/html": [
       "<div>\n",
       "<style scoped>\n",
       "    .dataframe tbody tr th:only-of-type {\n",
       "        vertical-align: middle;\n",
       "    }\n",
       "\n",
       "    .dataframe tbody tr th {\n",
       "        vertical-align: top;\n",
       "    }\n",
       "\n",
       "    .dataframe thead th {\n",
       "        text-align: right;\n",
       "    }\n",
       "</style>\n",
       "<table border=\"1\" class=\"dataframe\">\n",
       "  <thead>\n",
       "    <tr style=\"text-align: right;\">\n",
       "      <th></th>\n",
       "      <th>Mouse ID</th>\n",
       "      <th>Timepoint</th>\n",
       "      <th>Tumor Volume (mm3)</th>\n",
       "      <th>Metastatic Sites</th>\n",
       "      <th>Drug Regimen</th>\n",
       "      <th>Sex</th>\n",
       "      <th>Age_months</th>\n",
       "      <th>Weight (g)</th>\n",
       "    </tr>\n",
       "  </thead>\n",
       "  <tbody>\n",
       "    <tr>\n",
       "      <th>860</th>\n",
       "      <td>g989</td>\n",
       "      <td>0</td>\n",
       "      <td>45.000000</td>\n",
       "      <td>0</td>\n",
       "      <td>Propriva</td>\n",
       "      <td>Female</td>\n",
       "      <td>21</td>\n",
       "      <td>26</td>\n",
       "    </tr>\n",
       "    <tr>\n",
       "      <th>861</th>\n",
       "      <td>g989</td>\n",
       "      <td>0</td>\n",
       "      <td>45.000000</td>\n",
       "      <td>0</td>\n",
       "      <td>Propriva</td>\n",
       "      <td>Female</td>\n",
       "      <td>21</td>\n",
       "      <td>26</td>\n",
       "    </tr>\n",
       "    <tr>\n",
       "      <th>862</th>\n",
       "      <td>g989</td>\n",
       "      <td>5</td>\n",
       "      <td>48.786801</td>\n",
       "      <td>0</td>\n",
       "      <td>Propriva</td>\n",
       "      <td>Female</td>\n",
       "      <td>21</td>\n",
       "      <td>26</td>\n",
       "    </tr>\n",
       "    <tr>\n",
       "      <th>863</th>\n",
       "      <td>g989</td>\n",
       "      <td>5</td>\n",
       "      <td>47.570392</td>\n",
       "      <td>0</td>\n",
       "      <td>Propriva</td>\n",
       "      <td>Female</td>\n",
       "      <td>21</td>\n",
       "      <td>26</td>\n",
       "    </tr>\n",
       "    <tr>\n",
       "      <th>864</th>\n",
       "      <td>g989</td>\n",
       "      <td>10</td>\n",
       "      <td>51.745156</td>\n",
       "      <td>0</td>\n",
       "      <td>Propriva</td>\n",
       "      <td>Female</td>\n",
       "      <td>21</td>\n",
       "      <td>26</td>\n",
       "    </tr>\n",
       "    <tr>\n",
       "      <th>865</th>\n",
       "      <td>g989</td>\n",
       "      <td>10</td>\n",
       "      <td>49.880528</td>\n",
       "      <td>0</td>\n",
       "      <td>Propriva</td>\n",
       "      <td>Female</td>\n",
       "      <td>21</td>\n",
       "      <td>26</td>\n",
       "    </tr>\n",
       "    <tr>\n",
       "      <th>866</th>\n",
       "      <td>g989</td>\n",
       "      <td>15</td>\n",
       "      <td>51.325852</td>\n",
       "      <td>1</td>\n",
       "      <td>Propriva</td>\n",
       "      <td>Female</td>\n",
       "      <td>21</td>\n",
       "      <td>26</td>\n",
       "    </tr>\n",
       "    <tr>\n",
       "      <th>867</th>\n",
       "      <td>g989</td>\n",
       "      <td>15</td>\n",
       "      <td>53.442020</td>\n",
       "      <td>0</td>\n",
       "      <td>Propriva</td>\n",
       "      <td>Female</td>\n",
       "      <td>21</td>\n",
       "      <td>26</td>\n",
       "    </tr>\n",
       "    <tr>\n",
       "      <th>868</th>\n",
       "      <td>g989</td>\n",
       "      <td>20</td>\n",
       "      <td>55.326122</td>\n",
       "      <td>1</td>\n",
       "      <td>Propriva</td>\n",
       "      <td>Female</td>\n",
       "      <td>21</td>\n",
       "      <td>26</td>\n",
       "    </tr>\n",
       "    <tr>\n",
       "      <th>869</th>\n",
       "      <td>g989</td>\n",
       "      <td>20</td>\n",
       "      <td>54.657650</td>\n",
       "      <td>1</td>\n",
       "      <td>Propriva</td>\n",
       "      <td>Female</td>\n",
       "      <td>21</td>\n",
       "      <td>26</td>\n",
       "    </tr>\n",
       "  </tbody>\n",
       "</table>\n",
       "</div>"
      ],
      "text/plain": [
       "    Mouse ID  Timepoint  Tumor Volume (mm3)  Metastatic Sites Drug Regimen  \\\n",
       "860     g989          0           45.000000                 0     Propriva   \n",
       "861     g989          0           45.000000                 0     Propriva   \n",
       "862     g989          5           48.786801                 0     Propriva   \n",
       "863     g989          5           47.570392                 0     Propriva   \n",
       "864     g989         10           51.745156                 0     Propriva   \n",
       "865     g989         10           49.880528                 0     Propriva   \n",
       "866     g989         15           51.325852                 1     Propriva   \n",
       "867     g989         15           53.442020                 0     Propriva   \n",
       "868     g989         20           55.326122                 1     Propriva   \n",
       "869     g989         20           54.657650                 1     Propriva   \n",
       "\n",
       "        Sex  Age_months  Weight (g)  \n",
       "860  Female          21          26  \n",
       "861  Female          21          26  \n",
       "862  Female          21          26  \n",
       "863  Female          21          26  \n",
       "864  Female          21          26  \n",
       "865  Female          21          26  \n",
       "866  Female          21          26  \n",
       "867  Female          21          26  \n",
       "868  Female          21          26  \n",
       "869  Female          21          26  "
      ]
     },
     "execution_count": 5,
     "metadata": {},
     "output_type": "execute_result"
    }
   ],
   "source": [
    "# Getting the duplicate mice by ID number that shows up for Mouse ID and Timepoint. \n",
    "# Create a data frame containing all the dublicate records\n",
    "# Optional: Get all the data for the duplicate mouse ID. \n",
    "\n",
    "# this is a data frame that contains the duplicate records\n",
    "Dup_Mice_Rec = mouse_df[mouse_df.duplicated(subset=['Mouse ID','Timepoint'],keep=False)]  \n",
    "Dup_Mice_Rec.head(20)"
   ]
  },
  {
   "cell_type": "code",
   "execution_count": 6,
   "metadata": {},
   "outputs": [
    {
     "data": {
      "text/html": [
       "<div>\n",
       "<style scoped>\n",
       "    .dataframe tbody tr th:only-of-type {\n",
       "        vertical-align: middle;\n",
       "    }\n",
       "\n",
       "    .dataframe tbody tr th {\n",
       "        vertical-align: top;\n",
       "    }\n",
       "\n",
       "    .dataframe thead th {\n",
       "        text-align: right;\n",
       "    }\n",
       "</style>\n",
       "<table border=\"1\" class=\"dataframe\">\n",
       "  <thead>\n",
       "    <tr style=\"text-align: right;\">\n",
       "      <th></th>\n",
       "      <th>Mouse ID</th>\n",
       "      <th>Timepoint</th>\n",
       "      <th>Tumor Volume (mm3)</th>\n",
       "      <th>Metastatic Sites</th>\n",
       "      <th>Drug Regimen</th>\n",
       "      <th>Sex</th>\n",
       "      <th>Age_months</th>\n",
       "      <th>Weight (g)</th>\n",
       "    </tr>\n",
       "  </thead>\n",
       "  <tbody>\n",
       "    <tr>\n",
       "      <th>0</th>\n",
       "      <td>b128</td>\n",
       "      <td>0</td>\n",
       "      <td>45.000000</td>\n",
       "      <td>0</td>\n",
       "      <td>Capomulin</td>\n",
       "      <td>Female</td>\n",
       "      <td>9</td>\n",
       "      <td>22</td>\n",
       "    </tr>\n",
       "    <tr>\n",
       "      <th>1</th>\n",
       "      <td>b128</td>\n",
       "      <td>5</td>\n",
       "      <td>45.651331</td>\n",
       "      <td>0</td>\n",
       "      <td>Capomulin</td>\n",
       "      <td>Female</td>\n",
       "      <td>9</td>\n",
       "      <td>22</td>\n",
       "    </tr>\n",
       "    <tr>\n",
       "      <th>2</th>\n",
       "      <td>b128</td>\n",
       "      <td>10</td>\n",
       "      <td>43.270852</td>\n",
       "      <td>0</td>\n",
       "      <td>Capomulin</td>\n",
       "      <td>Female</td>\n",
       "      <td>9</td>\n",
       "      <td>22</td>\n",
       "    </tr>\n",
       "    <tr>\n",
       "      <th>3</th>\n",
       "      <td>b128</td>\n",
       "      <td>15</td>\n",
       "      <td>43.784893</td>\n",
       "      <td>0</td>\n",
       "      <td>Capomulin</td>\n",
       "      <td>Female</td>\n",
       "      <td>9</td>\n",
       "      <td>22</td>\n",
       "    </tr>\n",
       "    <tr>\n",
       "      <th>4</th>\n",
       "      <td>b128</td>\n",
       "      <td>20</td>\n",
       "      <td>42.731552</td>\n",
       "      <td>0</td>\n",
       "      <td>Capomulin</td>\n",
       "      <td>Female</td>\n",
       "      <td>9</td>\n",
       "      <td>22</td>\n",
       "    </tr>\n",
       "  </tbody>\n",
       "</table>\n",
       "</div>"
      ],
      "text/plain": [
       "  Mouse ID  Timepoint  Tumor Volume (mm3)  Metastatic Sites Drug Regimen  \\\n",
       "0     b128          0           45.000000                 0    Capomulin   \n",
       "1     b128          5           45.651331                 0    Capomulin   \n",
       "2     b128         10           43.270852                 0    Capomulin   \n",
       "3     b128         15           43.784893                 0    Capomulin   \n",
       "4     b128         20           42.731552                 0    Capomulin   \n",
       "\n",
       "      Sex  Age_months  Weight (g)  \n",
       "0  Female           9          22  \n",
       "1  Female           9          22  \n",
       "2  Female           9          22  \n",
       "3  Female           9          22  \n",
       "4  Female           9          22  "
      ]
     },
     "execution_count": 6,
     "metadata": {},
     "output_type": "execute_result"
    }
   ],
   "source": [
    "# Create a clean DataFrame by dropping the duplicate mouse by its ID.\n",
    "# All the duplicate records were for Mouse ID # g989\n",
    "\n",
    "mouse_df = mouse_df.loc[mouse_df['Mouse ID']!= 'g989']    # creating a data frame that using all the mouse ID's except ID # g989\n",
    "mouse_df.head()"
   ]
  },
  {
   "cell_type": "code",
   "execution_count": 7,
   "metadata": {},
   "outputs": [
    {
     "data": {
      "text/plain": [
       "248"
      ]
     },
     "execution_count": 7,
     "metadata": {},
     "output_type": "execute_result"
    }
   ],
   "source": [
    "# Checking the number of mice in the clean DataFrame.\n",
    "mouse_df['Mouse ID'].nunique()              # The data frame now contains one less unique mouse ID"
   ]
  },
  {
   "cell_type": "markdown",
   "metadata": {},
   "source": [
    "## Summary Statistics"
   ]
  },
  {
   "cell_type": "code",
   "execution_count": 8,
   "metadata": {},
   "outputs": [
    {
     "data": {
      "text/html": [
       "<div>\n",
       "<style scoped>\n",
       "    .dataframe tbody tr th:only-of-type {\n",
       "        vertical-align: middle;\n",
       "    }\n",
       "\n",
       "    .dataframe tbody tr th {\n",
       "        vertical-align: top;\n",
       "    }\n",
       "\n",
       "    .dataframe thead th {\n",
       "        text-align: right;\n",
       "    }\n",
       "</style>\n",
       "<table border=\"1\" class=\"dataframe\">\n",
       "  <thead>\n",
       "    <tr style=\"text-align: right;\">\n",
       "      <th></th>\n",
       "      <th>Tumor_mean</th>\n",
       "      <th>Tumor_median</th>\n",
       "      <th>Tumor_var</th>\n",
       "      <th>Tumor_std</th>\n",
       "      <th>Tumor_sem</th>\n",
       "    </tr>\n",
       "    <tr>\n",
       "      <th>Drug Regimen</th>\n",
       "      <th></th>\n",
       "      <th></th>\n",
       "      <th></th>\n",
       "      <th></th>\n",
       "      <th></th>\n",
       "    </tr>\n",
       "  </thead>\n",
       "  <tbody>\n",
       "    <tr>\n",
       "      <th>Capomulin</th>\n",
       "      <td>40.675741</td>\n",
       "      <td>41.557809</td>\n",
       "      <td>24.947764</td>\n",
       "      <td>4.994774</td>\n",
       "      <td>0.329346</td>\n",
       "    </tr>\n",
       "    <tr>\n",
       "      <th>Ceftamin</th>\n",
       "      <td>52.591172</td>\n",
       "      <td>51.776157</td>\n",
       "      <td>39.290177</td>\n",
       "      <td>6.268188</td>\n",
       "      <td>0.469821</td>\n",
       "    </tr>\n",
       "    <tr>\n",
       "      <th>Infubinol</th>\n",
       "      <td>52.884795</td>\n",
       "      <td>51.820584</td>\n",
       "      <td>43.128684</td>\n",
       "      <td>6.567243</td>\n",
       "      <td>0.492236</td>\n",
       "    </tr>\n",
       "    <tr>\n",
       "      <th>Ketapril</th>\n",
       "      <td>55.235638</td>\n",
       "      <td>53.698743</td>\n",
       "      <td>68.553577</td>\n",
       "      <td>8.279709</td>\n",
       "      <td>0.603860</td>\n",
       "    </tr>\n",
       "    <tr>\n",
       "      <th>Naftisol</th>\n",
       "      <td>54.331565</td>\n",
       "      <td>52.509285</td>\n",
       "      <td>66.173479</td>\n",
       "      <td>8.134708</td>\n",
       "      <td>0.596466</td>\n",
       "    </tr>\n",
       "    <tr>\n",
       "      <th>Placebo</th>\n",
       "      <td>54.033581</td>\n",
       "      <td>52.288934</td>\n",
       "      <td>61.168083</td>\n",
       "      <td>7.821003</td>\n",
       "      <td>0.581331</td>\n",
       "    </tr>\n",
       "    <tr>\n",
       "      <th>Propriva</th>\n",
       "      <td>52.320930</td>\n",
       "      <td>50.446266</td>\n",
       "      <td>43.852013</td>\n",
       "      <td>6.622085</td>\n",
       "      <td>0.544332</td>\n",
       "    </tr>\n",
       "    <tr>\n",
       "      <th>Ramicane</th>\n",
       "      <td>40.216745</td>\n",
       "      <td>40.673236</td>\n",
       "      <td>23.486704</td>\n",
       "      <td>4.846308</td>\n",
       "      <td>0.320955</td>\n",
       "    </tr>\n",
       "    <tr>\n",
       "      <th>Stelasyn</th>\n",
       "      <td>54.233149</td>\n",
       "      <td>52.431737</td>\n",
       "      <td>59.450562</td>\n",
       "      <td>7.710419</td>\n",
       "      <td>0.573111</td>\n",
       "    </tr>\n",
       "    <tr>\n",
       "      <th>Zoniferol</th>\n",
       "      <td>53.236507</td>\n",
       "      <td>51.818479</td>\n",
       "      <td>48.533355</td>\n",
       "      <td>6.966589</td>\n",
       "      <td>0.516398</td>\n",
       "    </tr>\n",
       "  </tbody>\n",
       "</table>\n",
       "</div>"
      ],
      "text/plain": [
       "              Tumor_mean  Tumor_median  Tumor_var  Tumor_std  Tumor_sem\n",
       "Drug Regimen                                                           \n",
       "Capomulin      40.675741     41.557809  24.947764   4.994774   0.329346\n",
       "Ceftamin       52.591172     51.776157  39.290177   6.268188   0.469821\n",
       "Infubinol      52.884795     51.820584  43.128684   6.567243   0.492236\n",
       "Ketapril       55.235638     53.698743  68.553577   8.279709   0.603860\n",
       "Naftisol       54.331565     52.509285  66.173479   8.134708   0.596466\n",
       "Placebo        54.033581     52.288934  61.168083   7.821003   0.581331\n",
       "Propriva       52.320930     50.446266  43.852013   6.622085   0.544332\n",
       "Ramicane       40.216745     40.673236  23.486704   4.846308   0.320955\n",
       "Stelasyn       54.233149     52.431737  59.450562   7.710419   0.573111\n",
       "Zoniferol      53.236507     51.818479  48.533355   6.966589   0.516398"
      ]
     },
     "execution_count": 8,
     "metadata": {},
     "output_type": "execute_result"
    }
   ],
   "source": [
    "# Generate a summary statistics table of mean, median, variance, standard deviation, and SEM of the tumor volume for each regimen\n",
    "\n",
    "# Use groupby and summary statistical methods to calculate the following properties of each drug regimen: \n",
    "# mean, median, variance, standard deviation, and SEM of the tumor volume. \n",
    "\n",
    "mouse_mean = mouse_df.groupby(['Drug Regimen']).mean()['Tumor Volume (mm3)']        # mean \n",
    "mouse_median = mouse_df.groupby(['Drug Regimen']).median()['Tumor Volume (mm3)']    # median\n",
    "mouse_var = mouse_df.groupby(['Drug Regimen']).var()['Tumor Volume (mm3)']          # variance \n",
    "mouse_std = mouse_df.groupby(['Drug Regimen']).std()['Tumor Volume (mm3)']          # standard deviation\n",
    "mouse_sem = mouse_df.groupby(['Drug Regimen']).sem()['Tumor Volume (mm3)']          # SEM \n",
    "\n",
    "# Assemble the resulting series into a single summary DataFrame.\n",
    "mouse_tumor_stats_df = pd.DataFrame({\n",
    "            'Tumor_mean': mouse_mean,\n",
    "            'Tumor_median' : mouse_median,            \n",
    "            'Tumor_var' : mouse_var,\n",
    "            'Tumor_std' : mouse_std,\n",
    "            'Tumor_sem' : mouse_sem})\n",
    "mouse_tumor_stats_df.head(20)"
   ]
  },
  {
   "cell_type": "code",
   "execution_count": 9,
   "metadata": {},
   "outputs": [
    {
     "data": {
      "text/html": [
       "<div>\n",
       "<style scoped>\n",
       "    .dataframe tbody tr th:only-of-type {\n",
       "        vertical-align: middle;\n",
       "    }\n",
       "\n",
       "    .dataframe tbody tr th {\n",
       "        vertical-align: top;\n",
       "    }\n",
       "\n",
       "    .dataframe thead tr th {\n",
       "        text-align: left;\n",
       "    }\n",
       "\n",
       "    .dataframe thead tr:last-of-type th {\n",
       "        text-align: right;\n",
       "    }\n",
       "</style>\n",
       "<table border=\"1\" class=\"dataframe\">\n",
       "  <thead>\n",
       "    <tr>\n",
       "      <th></th>\n",
       "      <th colspan=\"5\" halign=\"left\">Tumor Volume (mm3)</th>\n",
       "    </tr>\n",
       "    <tr>\n",
       "      <th></th>\n",
       "      <th>mean</th>\n",
       "      <th>median</th>\n",
       "      <th>var</th>\n",
       "      <th>std</th>\n",
       "      <th>sem</th>\n",
       "    </tr>\n",
       "    <tr>\n",
       "      <th>Drug Regimen</th>\n",
       "      <th></th>\n",
       "      <th></th>\n",
       "      <th></th>\n",
       "      <th></th>\n",
       "      <th></th>\n",
       "    </tr>\n",
       "  </thead>\n",
       "  <tbody>\n",
       "    <tr>\n",
       "      <th>Capomulin</th>\n",
       "      <td>40.675741</td>\n",
       "      <td>41.557809</td>\n",
       "      <td>24.947764</td>\n",
       "      <td>4.994774</td>\n",
       "      <td>0.329346</td>\n",
       "    </tr>\n",
       "    <tr>\n",
       "      <th>Ceftamin</th>\n",
       "      <td>52.591172</td>\n",
       "      <td>51.776157</td>\n",
       "      <td>39.290177</td>\n",
       "      <td>6.268188</td>\n",
       "      <td>0.469821</td>\n",
       "    </tr>\n",
       "    <tr>\n",
       "      <th>Infubinol</th>\n",
       "      <td>52.884795</td>\n",
       "      <td>51.820584</td>\n",
       "      <td>43.128684</td>\n",
       "      <td>6.567243</td>\n",
       "      <td>0.492236</td>\n",
       "    </tr>\n",
       "    <tr>\n",
       "      <th>Ketapril</th>\n",
       "      <td>55.235638</td>\n",
       "      <td>53.698743</td>\n",
       "      <td>68.553577</td>\n",
       "      <td>8.279709</td>\n",
       "      <td>0.603860</td>\n",
       "    </tr>\n",
       "    <tr>\n",
       "      <th>Naftisol</th>\n",
       "      <td>54.331565</td>\n",
       "      <td>52.509285</td>\n",
       "      <td>66.173479</td>\n",
       "      <td>8.134708</td>\n",
       "      <td>0.596466</td>\n",
       "    </tr>\n",
       "    <tr>\n",
       "      <th>Placebo</th>\n",
       "      <td>54.033581</td>\n",
       "      <td>52.288934</td>\n",
       "      <td>61.168083</td>\n",
       "      <td>7.821003</td>\n",
       "      <td>0.581331</td>\n",
       "    </tr>\n",
       "    <tr>\n",
       "      <th>Propriva</th>\n",
       "      <td>52.320930</td>\n",
       "      <td>50.446266</td>\n",
       "      <td>43.852013</td>\n",
       "      <td>6.622085</td>\n",
       "      <td>0.544332</td>\n",
       "    </tr>\n",
       "    <tr>\n",
       "      <th>Ramicane</th>\n",
       "      <td>40.216745</td>\n",
       "      <td>40.673236</td>\n",
       "      <td>23.486704</td>\n",
       "      <td>4.846308</td>\n",
       "      <td>0.320955</td>\n",
       "    </tr>\n",
       "    <tr>\n",
       "      <th>Stelasyn</th>\n",
       "      <td>54.233149</td>\n",
       "      <td>52.431737</td>\n",
       "      <td>59.450562</td>\n",
       "      <td>7.710419</td>\n",
       "      <td>0.573111</td>\n",
       "    </tr>\n",
       "    <tr>\n",
       "      <th>Zoniferol</th>\n",
       "      <td>53.236507</td>\n",
       "      <td>51.818479</td>\n",
       "      <td>48.533355</td>\n",
       "      <td>6.966589</td>\n",
       "      <td>0.516398</td>\n",
       "    </tr>\n",
       "  </tbody>\n",
       "</table>\n",
       "</div>"
      ],
      "text/plain": [
       "             Tumor Volume (mm3)                                          \n",
       "                           mean     median        var       std       sem\n",
       "Drug Regimen                                                             \n",
       "Capomulin             40.675741  41.557809  24.947764  4.994774  0.329346\n",
       "Ceftamin              52.591172  51.776157  39.290177  6.268188  0.469821\n",
       "Infubinol             52.884795  51.820584  43.128684  6.567243  0.492236\n",
       "Ketapril              55.235638  53.698743  68.553577  8.279709  0.603860\n",
       "Naftisol              54.331565  52.509285  66.173479  8.134708  0.596466\n",
       "Placebo               54.033581  52.288934  61.168083  7.821003  0.581331\n",
       "Propriva              52.320930  50.446266  43.852013  6.622085  0.544332\n",
       "Ramicane              40.216745  40.673236  23.486704  4.846308  0.320955\n",
       "Stelasyn              54.233149  52.431737  59.450562  7.710419  0.573111\n",
       "Zoniferol             53.236507  51.818479  48.533355  6.966589  0.516398"
      ]
     },
     "execution_count": 9,
     "metadata": {},
     "output_type": "execute_result"
    }
   ],
   "source": [
    "# Generate a summary statistics table of mean, median, variance, standard deviation, \n",
    "# and SEM of the tumor volume for each regimen\n",
    "\n",
    "# Using the aggregation method, produce the same summary statistics in a single line.\n",
    "mouse_tumor_stats_df = mouse_df.groupby(['Drug Regimen']).agg({'Tumor Volume (mm3)': ['mean', 'median', 'var','std','sem']})\n",
    "mouse_tumor_stats_df.head(20)"
   ]
  },
  {
   "cell_type": "markdown",
   "metadata": {},
   "source": [
    "## Bar and Pie Charts"
   ]
  },
  {
   "cell_type": "code",
   "execution_count": 10,
   "metadata": {},
   "outputs": [
    {
     "data": {
      "image/png": "[encoded data removed]",
      "text/plain": [
       "<Figure size 1152x360 with 1 Axes>"
      ]
     },
     "metadata": {
      "needs_background": "light"
     },
     "output_type": "display_data"
    }
   ],
   "source": [
    "# Generate a bar plot showing the total number of timepoints for all mice tested for each drug regimen using Pandas.\n",
    "a = mouse_df.groupby(['Drug Regimen'])['Timepoint'].count()         # create groupby that selects Drug Regimen and counts the number of observations that were recorded (timepoints)\n",
    "a = a.sort_values(ascending=False)                                  # sort this descending (largest first)\n",
    "a.plot(kind='bar',                                                  # make a bar chart\n",
    "            color='tomato',                                         # set color to tomato\n",
    "            figsize=(16,5),                                         # set the figure size\n",
    "            alpha=0.9,                                              # set the level of transpanancey\n",
    "            align=\"center\");                                        # center column lables with the bars\n",
    "plt.title(\"Drug Regiments Runs\", fontsize = 24)                     # Add a title      \n",
    "plt.ylabel(\"Count of Runs\" , fontsize = 16)                         # Add a y-axis description\n",
    "plt.xlabel(\"Drug Treatments\", fontsize = 16)                        # Add an x-axis description\n",
    "plt.show()"
   ]
  },
  {
   "cell_type": "code",
   "execution_count": 11,
   "metadata": {},
   "outputs": [
    {
     "data": {
      "image/png": "[encoded data removed]",
      "text/plain": [
       "<Figure size 1152x360 with 1 Axes>"
      ]
     },
     "metadata": {
      "needs_background": "light"
     },
     "output_type": "display_data"
    }
   ],
   "source": [
    "# Generate a bar plot showing the total number of timepoints for all mice tested for each drug regimen using pyplot.\n",
    "#x_axis = mouse_df['Drug Regimen'].unique()\n",
    "#y_axis = mouse_df.groupby(['Drug Regimen'])['Timepoint'].count().sort_values().tolist()\n",
    "a = mouse_df.groupby(['Drug Regimen'])['Timepoint'].count().sort_values(ascending=False)\n",
    "y_axis = a.tolist()                                                 # create a list of y_values\n",
    "x_axis = a.index.tolist()                                           # create a list of x_values\n",
    "plt.figure(figsize=(16,5))                                          # set the size of the figure\n",
    "plt.title(\"Drug Regiments Run Counts\", fontsize = 24)                     # Add a title      \n",
    "plt.ylabel(\"Count of Runs\" , fontsize = 16)                         # Add a y-axis description\n",
    "plt.xlabel(\"Drug Treatments\", fontsize = 16)                        # Add an x-axis description\n",
    "plt.bar(x_axis, y_axis, color='r', alpha=0.5, align=\"center\");      # create the bar chart\n",
    "plt.show()                                                          # show the bar chart"
   ]
  },
  {
   "cell_type": "markdown",
   "metadata": {},
   "source": [
    "# Examine Gender Distribution in the Analysis"
   ]
  },
  {
   "cell_type": "code",
   "execution_count": 12,
   "metadata": {},
   "outputs": [
    {
     "data": {
      "image/png": "[encoded data removed]",
      "text/plain": [
       "<Figure size 576x576 with 1 Axes>"
      ]
     },
     "metadata": {},
     "output_type": "display_data"
    }
   ],
   "source": [
    "# Generate a pie plot showing the distribution of female versus male mice using Pandas\n",
    "numOfMice=len(mouse_df['Mouse ID'].unique())\n",
    "\n",
    "mouse_df.groupby(['Sex'])['Mouse ID'].nunique().plot(kind='pie', \n",
    "                                                figsize=(8,8),                                      #Set the figure size using the (x, y) tuple\n",
    "                                                colors = ['pink','lightblue'],                      # Set the colors to pink and light blue\n",
    "                                                title=\"Gender of Mice studied\",                     # Add the title\n",
    "                                                autopct=lambda x: '{:.0f}'.format(x*numOfMice/100), # convert the % value back to a count value - The pie show the percent visually\n",
    "                                                startangle=90,                                      # change the starting angle to straight up\n",
    "                                                label='',                                           # Supress the vertical name title 'Mouse ID' on the left side\n",
    "                                                rotatelabels = True,                                # slice label will be at the angel of the slice\n",
    "                                                textprops={'fontsize': 14},                         # set the font size labels and ledgen                                                \n",
    "                                                shadow = False);                                    # Don't have a shadow\n"
   ]
  },
  {
   "cell_type": "code",
   "execution_count": 13,
   "metadata": {},
   "outputs": [
    {
     "data": {
      "image/png": "[encoded data removed]",
      "text/plain": [
       "<Figure size 576x576 with 1 Axes>"
      ]
     },
     "metadata": {},
     "output_type": "display_data"
    }
   ],
   "source": [
    "# Generate a pie plot showing the distribution of female versus male mice using pyplot\n",
    "a = mouse_df.groupby(['Sex'])['Mouse ID'].nunique()\n",
    "labels = a.index.tolist()                                       # Set the pie slice labels in a list\n",
    "values = a.tolist()                                             # Set size of the slices in a list\n",
    "colors = ['pink','lightblue']                                   # Set the colors for the slices in a list\n",
    "fig = plt.figure(figsize=(8,8))                                 # Set the size of the chart\n",
    "plt.title('Gender of Mice studied', fontsize = 20)              # Set the Title and its font size\n",
    "plt.pie(values,                                                 # set the values for the chart\n",
    "    labels=labels,                                              # set the labels for the chart\n",
    "    colors=colors,                                              # set the colors for the chart using the previously defined variable.\n",
    "    autopct=\"%1.1f%%\",                                          # include the slice size as a % of the whole formated to 1 decimal point\n",
    "    shadow=False,                                               # don't show a shadow\n",
    "    frame = False,                                              # don't show a frame\n",
    "    textprops={'fontsize': 14},                                 # make the labels and percentage 14  point text\n",
    "    startangle=90);                                             # set the start angle to 90 degrees or straight up.\n"
   ]
  },
  {
   "cell_type": "markdown",
   "metadata": {},
   "source": [
    "# Quartiles, Outliers and Boxplots - looking for outliers\n",
    "#### Build the data frame of only the latest value of four select treatments"
   ]
  },
  {
   "cell_type": "code",
   "execution_count": 14,
   "metadata": {},
   "outputs": [
    {
     "name": "stdout",
     "output_type": "stream",
     "text": [
      "100\n"
     ]
    }
   ],
   "source": [
    "# Calculate the final tumor volume of each mouse across four of the treatment regimens:  \n",
    "# Capomulin, Ramicane, Infubinol, and Ceftamin\n",
    "\n",
    "# Start by getting the last (greatest) timepoint for each mouse\n",
    "mouse_df.sort_values(by=['Timepoint'], ascending=True, inplace=True)\n",
    "mouse_df.info\n",
    "mouse_df_max = mouse_df.groupby('Mouse ID').last()\n",
    "mouse_df_max = pd.DataFrame(mouse_df_max)\n",
    "\n",
    "# Build a data frame only containing Capomulin, Ramicane, Infubinol, and Ceftamin\n",
    "mouse_df_max_by4 = mouse_df_max.loc[(mouse_df_max['Drug Regimen'] == 'Capomulin') |\n",
    "                 (mouse_df_max['Drug Regimen'] == 'Ramicane') |\n",
    "                 (mouse_df_max['Drug Regimen'] == 'Infubinol') |\n",
    "                 (mouse_df_max['Drug Regimen'] == 'Ceftamin')]\n",
    "\n",
    "mouse_df_max_by4.head(10)\n",
    "print (len(mouse_df_max_by4))       # how many values are there between the four drug treatments.       "
   ]
  },
  {
   "cell_type": "markdown",
   "metadata": {},
   "source": [
    "#### Calculate IQR's and look for Outliers"
   ]
  },
  {
   "cell_type": "code",
   "execution_count": 15,
   "metadata": {},
   "outputs": [
    {
     "name": "stdout",
     "output_type": "stream",
     "text": [
      "Potential outlier: Infubinol has a value below the lower bound at 36.3213458\n"
     ]
    },
    {
     "data": {
      "text/html": [
       "<div>\n",
       "<style scoped>\n",
       "    .dataframe tbody tr th:only-of-type {\n",
       "        vertical-align: middle;\n",
       "    }\n",
       "\n",
       "    .dataframe tbody tr th {\n",
       "        vertical-align: top;\n",
       "    }\n",
       "\n",
       "    .dataframe thead th {\n",
       "        text-align: right;\n",
       "    }\n",
       "</style>\n",
       "<table border=\"1\" class=\"dataframe\">\n",
       "  <thead>\n",
       "    <tr style=\"text-align: right;\">\n",
       "      <th></th>\n",
       "      <th>lower_Quartile</th>\n",
       "      <th>Upper_Quartile</th>\n",
       "      <th>IQR</th>\n",
       "      <th>median</th>\n",
       "      <th>lower_bound</th>\n",
       "      <th>upper_bound</th>\n",
       "    </tr>\n",
       "    <tr>\n",
       "      <th>Drug_Name</th>\n",
       "      <th></th>\n",
       "      <th></th>\n",
       "      <th></th>\n",
       "      <th></th>\n",
       "      <th></th>\n",
       "      <th></th>\n",
       "    </tr>\n",
       "  </thead>\n",
       "  <tbody>\n",
       "    <tr>\n",
       "      <th>Capomulin</th>\n",
       "      <td>32.38</td>\n",
       "      <td>40.16</td>\n",
       "      <td>7.78</td>\n",
       "      <td>38.13</td>\n",
       "      <td>20.71</td>\n",
       "      <td>51.83</td>\n",
       "    </tr>\n",
       "    <tr>\n",
       "      <th>Ramicane</th>\n",
       "      <td>31.56</td>\n",
       "      <td>40.66</td>\n",
       "      <td>9.10</td>\n",
       "      <td>36.56</td>\n",
       "      <td>17.91</td>\n",
       "      <td>54.31</td>\n",
       "    </tr>\n",
       "    <tr>\n",
       "      <th>Infubinol</th>\n",
       "      <td>54.05</td>\n",
       "      <td>65.53</td>\n",
       "      <td>11.48</td>\n",
       "      <td>60.17</td>\n",
       "      <td>36.83</td>\n",
       "      <td>82.75</td>\n",
       "    </tr>\n",
       "    <tr>\n",
       "      <th>Ceftamin</th>\n",
       "      <td>48.72</td>\n",
       "      <td>64.30</td>\n",
       "      <td>15.58</td>\n",
       "      <td>59.85</td>\n",
       "      <td>25.35</td>\n",
       "      <td>87.67</td>\n",
       "    </tr>\n",
       "  </tbody>\n",
       "</table>\n",
       "</div>"
      ],
      "text/plain": [
       "           lower_Quartile  Upper_Quartile    IQR  median  lower_bound  \\\n",
       "Drug_Name                                                               \n",
       "Capomulin           32.38           40.16   7.78   38.13        20.71   \n",
       "Ramicane            31.56           40.66   9.10   36.56        17.91   \n",
       "Infubinol           54.05           65.53  11.48   60.17        36.83   \n",
       "Ceftamin            48.72           64.30  15.58   59.85        25.35   \n",
       "\n",
       "           upper_bound  \n",
       "Drug_Name               \n",
       "Capomulin        51.83  \n",
       "Ramicane         54.31  \n",
       "Infubinol        82.75  \n",
       "Ceftamin         87.67  "
      ]
     },
     "execution_count": 15,
     "metadata": {},
     "output_type": "execute_result"
    }
   ],
   "source": [
    "# Here is the list of drugs I am interested in.\n",
    "mylist = ['Capomulin', 'Ramicane', 'Infubinol', 'Ceftamin']\n",
    "\n",
    "# create the final dictionary with empty list for t the data.  The empty list are needed so that data may be appended into them\n",
    "myQuartile_dic = {'Capomulin':[], 'Ramicane':[], 'Infubinol':[], 'Ceftamin':[]}\n",
    "\n",
    "# This was added so that I could easily change which data frame is analyzed\n",
    "boxplot_df = mouse_df_max_by4\n",
    "\n",
    "# Calculate the lower quartile, upper quartile, IQR, lower_bound for outliers, and the upper_bound for outliers.\n",
    "# As they are calculated also append them into the myQuartile_dic\n",
    "for drug in mylist:\n",
    "  \n",
    "    # Calculate the IQR and quantitatively determine if there are any potential outliers. \n",
    "    # quartiles = mouse_df_45_by4['Tumor Volume (mm3)'].loc[mouse_df_45_by4['Drug Regimen']== drug].quantile([.25,.5,.75])\n",
    "    quartiles = boxplot_df['Tumor Volume (mm3)'].loc[boxplot_df['Drug Regimen']== drug].quantile([.25,.5,.75])\n",
    "    quartiles = round(quartiles,2)\n",
    "    lowerq = round(quartiles[0.25],2)\n",
    "    upperq = round(quartiles[0.75],2)\n",
    "    medianq = round(quartiles[0.5],2)\n",
    "    iqr = round(upperq-lowerq,2)\n",
    "    lower_bound = round(lowerq - (1.5*iqr),2)\n",
    "    upper_bound = round(upperq + (1.5*iqr),2)\n",
    "    \n",
    "    #Build a list of values for each drug treatment\n",
    "    myQuartile_dic[drug].append(lowerq)\n",
    "    myQuartile_dic[drug].append(upperq)\n",
    "    myQuartile_dic[drug].append(iqr)\n",
    "    myQuartile_dic[drug].append(medianq)\n",
    "    myQuartile_dic[drug].append(lower_bound)\n",
    "    myQuartile_dic[drug].append(upper_bound)\n",
    "\n",
    "################################################################################################################\n",
    "#####################  Create a data frame to store the quartile information  ##################################\n",
    "# Build a data frame of boxPlotInfo for the provided list of drugs Start first by building a dictionary of lists\n",
    "# Here are the column headings for the data frame\n",
    "dic_lables = ['Drug_Name','lower_Quartile', 'Upper_Quartile', 'IQR', 'median', 'lower_bound', 'upper_bound' ]\n",
    "\n",
    "# Create a blank list so that data may be appended into the list\n",
    "boxPlotInfo=[]\n",
    "\n",
    "# Populate the list within the dictionary with the data \n",
    "for drug in mylist:\n",
    "    myQuartile_dic[drug].insert(0,drug)                                     \n",
    "    boxPlotInfo.append(dict(zip(dic_lables, myQuartile_dic[drug])))\n",
    "\n",
    "# Create a data frame from the \n",
    "boxPlotInfo_df = pd.DataFrame(boxPlotInfo)\n",
    "################################################################################################################\n",
    "\n",
    "\n",
    "boxPlotInfo_df.set_index('Drug_Name', inplace=True)\n",
    "\n",
    "################################################################################################################\n",
    "##############################  Determine if there are any outliners  ##########################################\n",
    "# Identify the number of outliers Outliers\n",
    "for drug in mylist:\n",
    "    #data_lst = mouse_df.loc[(mouse_df['Drug Regimen'] == drug) & (mouse_df['Timepoint']==45)]['Tumor Volume (mm3)'].tolist()\n",
    "    data_lst = boxplot_df.loc[(boxplot_df['Drug Regimen'] == drug)]['Tumor Volume (mm3)'].tolist()\n",
    "    #print(data_lst)\n",
    "\n",
    "    ub=boxPlotInfo_df.loc[drug,'upper_bound']\n",
    "    lb=boxPlotInfo_df.loc[drug,'lower_bound']\n",
    "    num_outliers = 0\n",
    "    datapoints=0\n",
    "    for size in data_lst:\n",
    "        if size > ub:\n",
    "            num_outliers +=1\n",
    "            print(f'Potential outlier: {drug} has a value above the upper bound at {size}')     # print if there is an outlier\n",
    "        if size < lb:\n",
    "            num_outliers +=1\n",
    "            print(f'Potential outlier: {drug} has a value below the lower bound at {size}')     # print if there is an outlier\n",
    "#################################################################################################################\n",
    "\n",
    "boxPlotInfo_df   # Print out the Quartile information\n"
   ]
  },
  {
   "cell_type": "code",
   "execution_count": 16,
   "metadata": {},
   "outputs": [
    {
     "data": {
      "image/png": "[encoded data removed]",
      "text/plain": [
       "<Figure size 720x432 with 1 Axes>"
      ]
     },
     "metadata": {
      "needs_background": "light"
     },
     "output_type": "display_data"
    }
   ],
   "source": [
    "# Generate a box plot that shows the distrubution of the tumor volume for each treatment group.\n",
    "\n",
    "# Create list of observations for each of the four treatments\n",
    "# To get multiple box plots on one figure the method I found was to build a dictionary with one entry for each boxplot\n",
    "myDic= {'Capomulin':boxplot_df['Tumor Volume (mm3)'].loc[boxplot_df['Drug Regimen']== 'Capomulin'], \n",
    "        'Ramicane':boxplot_df['Tumor Volume (mm3)'].loc[boxplot_df['Drug Regimen']== 'Ramicane'], \n",
    "        'Infubinol':boxplot_df['Tumor Volume (mm3)'].loc[boxplot_df['Drug Regimen']== 'Infubinol'], \n",
    "        'Ceftamin':boxplot_df['Tumor Volume (mm3)'].loc[boxplot_df['Drug Regimen']== 'Ceftamin']}\n",
    "\n",
    "# Build an emblish the box plot containing the four treatments.\n",
    "fig, ax = plt.subplots(figsize=(10,6))\n",
    "plt.title('Box Plot of Tumor Size', fontsize = 24)\n",
    "plt.xlabel('Drug Treatment', fontsize = 16 )\n",
    "plt.ylabel('Toumor Volume in (mm^3)', fontsize = 16)\n",
    "ax.boxplot(myDic.values())\n",
    "ax.set_xticklabels(myDic.keys());               # the \" ; \" at the end suppress the ploting information for the last item added to the chart"
   ]
  },
  {
   "cell_type": "markdown",
   "metadata": {},
   "source": [
    "## Line and Scatter Plots"
   ]
  },
  {
   "cell_type": "code",
   "execution_count": 17,
   "metadata": {},
   "outputs": [
    {
     "data": {
      "image/png": "[encoded data removed]",
      "text/plain": [
       "<Figure size 720x432 with 1 Axes>"
      ]
     },
     "metadata": {
      "needs_background": "light"
     },
     "output_type": "display_data"
    }
   ],
   "source": [
    "# Generate a line plot of tumor volume vs. time point for a mouse treated with Capomulin\n",
    "\n",
    "# build a dataframe for Mouse l509\n",
    "a = mouse_df.loc[mouse_df['Mouse ID']=='l509'].sort_values('Timepoint')\n",
    "\n",
    "# Create and embellish the line plot\n",
    "fig, ax = plt.subplots(figsize=(10,6))\n",
    "ax = a.plot.line(x='Timepoint', y='Tumor Volume (mm3)',ax=ax)\n",
    "plt.title('Tumor Volume (mm3) for Mouse ID l509 \\n when treated with Capomulin', fontsize = 20)\n",
    "plt.xlabel('Time Period (days)', fontsize = 14 )\n",
    "plt.ylabel('Toumor Volume in (mm^3)', fontsize = 14);\n"
   ]
  },
  {
   "cell_type": "markdown",
   "metadata": {},
   "source": [
    "# Correlation and Regression\n",
    "#### Correlation"
   ]
  },
  {
   "cell_type": "code",
   "execution_count": 18,
   "metadata": {},
   "outputs": [
    {
     "data": {
      "image/png": "[encoded data removed]",
      "text/plain": [
       "<Figure size 1080x432 with 1 Axes>"
      ]
     },
     "metadata": {
      "needs_background": "light"
     },
     "output_type": "display_data"
    }
   ],
   "source": [
    "# Generate a scatter plot of average tumor volume vs. mouse weight for the Capomulin regimen\n",
    "capomulin_scatter_df = mouse_df.loc[(mouse_df['Drug Regimen'] == 'Capomulin') ]\n",
    "# this works:  capomulin_scatter_df = capomulin_scatter_df.groupby(['Mouse ID']).agg({'Weight (g)':'mean' , 'Tumor Volume (mm3)':'mean'})\n",
    "capomulin_scatter_df = capomulin_scatter_df.groupby(['Mouse ID']).agg({'Weight (g)':'mean' , 'Tumor Volume (mm3)':'mean'})\n",
    "capomulin_scatter_df\n",
    "\n",
    "capomulin_scatter_df.plot.scatter( x='Weight (g)', y='Tumor Volume (mm3)', figsize=(15, 6))\n",
    "plt.xlabel('Mouse Weight (grams)', fontsize = 14 )\n",
    "plt.ylabel('Toumor Volume in (mm^3)', fontsize = 14)\n",
    "plt.title('Mouse Weight and Tumor Size', fontsize = 20);\n"
   ]
  },
  {
   "cell_type": "markdown",
   "metadata": {},
   "source": [
    "#### Regression"
   ]
  },
  {
   "cell_type": "code",
   "execution_count": 19,
   "metadata": {},
   "outputs": [
    {
     "data": {
      "image/png": "[encoded data removed]",
      "text/plain": [
       "<Figure size 1080x432 with 1 Axes>"
      ]
     },
     "metadata": {
      "needs_background": "light"
     },
     "output_type": "display_data"
    }
   ],
   "source": [
    "# Calculate the correlation coefficient and linear regression model \n",
    "# for mouse weight and average tumor volume for the Capomulin regimen\n",
    "# (slope, intercept, rvalue, pvalue, stderr) = linregress(x_values, y_values)\n",
    "x_value = capomulin_scatter_df['Weight (g)']                                # Establish the x_values\n",
    "y_value = capomulin_scatter_df['Tumor Volume (mm3)']                        # Establish the y_values\n",
    "(slope, intercept, rvalue, pvalue, stderr) = linregress(x_value, y_value)   # Calculate the regression line slop, intercept and r value\n",
    "regress_values = x_value * slope + intercept\n",
    "line_eq = \"y = \" + str(round(slope,2)) + \"x + \" + str(round(intercept,2))\n",
    "r_square_str = f'R-Squared = {round(rvalue**2,2)}'\n",
    "\n",
    "\n",
    "fig = plt.figure(figsize=(15,6))                            # set the figure size\n",
    "plt.scatter(x_value,y_value)                                # plot the data\n",
    "plt.plot(x_value,regress_values,\"r-\")                       # plot the regression line in red \"r-\"\n",
    "plt.xlabel('Mouse Weight (grams)', fontsize = 14 )          # Add the x axis description\n",
    "plt.ylabel('Toumor Volume in (mm^3)', fontsize = 14)        # Add the y axis description\n",
    "plt.title('Mouse Weight and Tumor Size', fontsize = 20)     # Add the title\n",
    "plt.annotate(line_eq,(22,36),fontsize=15,color=\"red\");      # This code plots the equation of the line at location (22, 36) on the figure\n",
    "plt.annotate(r_square_str,(22,35),fontsize=15,color=\"red\");"
   ]
  }
 ],
 "metadata": {
  "anaconda-cloud": {},
  "kernelspec": {
   "display_name": "Python 3 (ipykernel)",
   "language": "python",
   "name": "python3"
  },
  "language_info": {
   "codemirror_mode": {
    "name": "ipython",
    "version": 3
   },
   "file_extension": ".py",
   "mimetype": "text/x-python",
   "name": "python",
   "nbconvert_exporter": "python",
   "pygments_lexer": "ipython3",
   "version": "3.9.12"
  },
  "vscode": {
   "interpreter": {
    "hash": "e7f336f9bec1e74624fa1ea8a759f275624ff514e02e1aa8e3e0a6d78d32a22a"
   }
  }
 },
 "nbformat": 4,
 "nbformat_minor": 4
}
